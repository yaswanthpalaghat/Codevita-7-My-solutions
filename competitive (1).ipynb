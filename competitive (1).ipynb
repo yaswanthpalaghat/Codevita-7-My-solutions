{
 "cells": [
  {
   "cell_type": "code",
   "execution_count": 5,
   "metadata": {},
   "outputs": [
    {
     "name": "stdout",
     "output_type": "stream",
     "text": [
      "90\n",
      "5\n",
      "270\n",
      "10\n",
      "1\n",
      "15.00\n"
     ]
    }
   ],
   "source": [
    "import math\n",
    "from decimal import Decimal\n",
    "def distance(vb,rb,vc,rc,t):\n",
    "    db = vb * t\n",
    "    dc = vc * t\n",
    "    while db >= 360:\n",
    "        db = db - 360\n",
    "    while dc >= 360:\n",
    "        dc = dc - 360\n",
    "        \n",
    "    angle = abs(db-dc)\n",
    "    \n",
    "    a2 = (rb**2)+(rc**2)-(2*rb*rc*math.cos(math.radians(angle)))\n",
    "    a = math.sqrt(a2)\n",
    "    a = Decimal(a)\n",
    "    a = round(a,2)\n",
    "    return a\n",
    "velocity_b = input()\n",
    "distance_b_a = input()\n",
    "velocity_c = input()\n",
    "distance_c_a = input()\n",
    "time = input()\n",
    "print(distance(int(velocity_b),int(distance_b_a),int(velocity_c),int(distance_c_a),int(time)))\n"
   ]
  },
  {
   "cell_type": "code",
   "execution_count": null,
   "metadata": {},
   "outputs": [],
   "source": []
  }
 ],
 "metadata": {
  "kernelspec": {
   "display_name": "Python 3",
   "language": "python",
   "name": "python3"
  },
  "language_info": {
   "codemirror_mode": {
    "name": "ipython",
    "version": 3
   },
   "file_extension": ".py",
   "mimetype": "text/x-python",
   "name": "python",
   "nbconvert_exporter": "python",
   "pygments_lexer": "ipython3",
   "version": "3.6.4"
  }
 },
 "nbformat": 4,
 "nbformat_minor": 2
}
