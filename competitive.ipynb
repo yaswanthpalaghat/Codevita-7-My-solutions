{
 "cells": [
  {
   "cell_type": "code",
   "execution_count": 1,
   "metadata": {},
   "outputs": [],
   "source": [
    "import math\n",
    "from decimal import Decimal\n",
    "def distance(vb,rb,vc,rc,t):\n",
    "    db = vb * t\n",
    "    dc = vc * t\n",
    "    while db >= 360:\n",
    "        db = db - 360\n",
    "    while dc >= 360:\n",
    "        dc = dc - 360\n",
    "        \n",
    "    angle = abs(db-dc)\n",
    "    \n",
    "    a2 = (rb**2)+(rc**2)-(2*rb*rc*math.cos(math.radians(angle)))\n",
    "    a = math.sqrt(a2)\n",
    "    a = Decimal(a)\n",
    "    a = round(a,2)\n",
    "    return a"
   ]
  },
  {
   "cell_type": "code",
   "execution_count": 2,
   "metadata": {},
   "outputs": [
    {
     "name": "stdout",
     "output_type": "stream",
     "text": [
      "15.00\n"
     ]
    }
   ],
   "source": [
    "print(distance(90,5,270,10,1))"
   ]
  }
 ],
 "metadata": {
  "kernelspec": {
   "display_name": "Python 3",
   "language": "python",
   "name": "python3"
  },
  "language_info": {
   "codemirror_mode": {
    "name": "ipython",
    "version": 3
   },
   "file_extension": ".py",
   "mimetype": "text/x-python",
   "name": "python",
   "nbconvert_exporter": "python",
   "pygments_lexer": "ipython3",
   "version": "3.6.4"
  }
 },
 "nbformat": 4,
 "nbformat_minor": 2
}
